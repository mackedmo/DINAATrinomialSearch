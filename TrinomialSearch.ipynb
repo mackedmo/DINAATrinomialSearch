{
 "cells": [
  {
   "cell_type": "markdown",
   "metadata": {},
   "source": [
    "## Trinomial Search For Documents Stored in Constellate's Datasets\n",
    "This Jupyter Notebook contains programming to search for trinomial instances in datasets built using Constellate's dataset builder. \n",
    "\n",
    "**How this notebook functions:** ADD TEXT HERE\n",
    "\n",
    "**What you need to start using this notebook:**\n"
   ]
  },
  {
   "cell_type": "code",
   "execution_count": null,
   "metadata": {},
   "outputs": [],
   "source": []
  }
 ],
 "metadata": {
  "kernelspec": {
   "display_name": "Python 3",
   "language": "python",
   "name": "python3"
  },
  "language_info": {
   "codemirror_mode": {
    "name": "ipython",
    "version": 3
   },
   "file_extension": ".py",
   "mimetype": "text/x-python",
   "name": "python",
   "nbconvert_exporter": "python",
   "pygments_lexer": "ipython3",
   "version": "3.8.5"
  }
 },
 "nbformat": 4,
 "nbformat_minor": 4
}
