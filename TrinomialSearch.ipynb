{
 "cells": [
  {
   "cell_type": "markdown",
   "metadata": {},
   "source": [
    "## Trinomial Search For Documents Stored in Constellate's Datasets\n",
    "This Jupyter Notebook contains programming to search for trinomial instances in datasets built using Constellate's dataset builder. \n",
    "\n",
    "**How this notebook functions:** Using a dataset built with Constellate's dataset builder (https://constellate.org/) and json file with state and county abbreviations, this notebook allows the user to search the unigrams from every article within a dataset for Smithsonian Trinomials and export a .csv file with the Smithsonian Trinomial and the JSTOR stable url data. \n",
    "\n",
    "**What you need to start using this notebook:** Dataset file built using Constellate (https://constellate.org/), JSON file with State and County Abbreviation information, Jupyter Lab environment and Python\n"
   ]
  },
  {
   "cell_type": "code",
   "execution_count": null,
   "metadata": {},
   "outputs": [],
   "source": [
    "import numpy as np\n",
    "import pandas as pd\n",
    "import csv\n",
    "import time\n"
   ]
  },
  {
   "cell_type": "code",
   "execution_count": null,
   "metadata": {},
   "outputs": [],
   "source": [
    "with open('3ce88441-1eb6-c10e-970d-7d071ad33299.jsonl', 'r') as path:\n",
    "    df = pd.read_json(path, lines=True) #create dataframe (df) from data within jsonl file from constellate\n",
    "print (df)\n",
    "    "
   ]
  },
  {
   "cell_type": "code",
   "execution_count": null,
   "metadata": {},
   "outputs": [],
   "source": [
    "df.columns"
   ]
  },
  {
   "cell_type": "code",
   "execution_count": null,
   "metadata": {},
   "outputs": [],
   "source": [
    "df.id"
   ]
  },
  {
   "cell_type": "code",
   "execution_count": null,
   "metadata": {},
   "outputs": [],
   "source": [
    "newdf = pd.DataFrame()\n",
    "\n",
    "start_time = time.time() \n",
    "for x in range(0,(len(df.unigramCount)-1)): #Separates the unigrams into individual rows keeping the url information for the article with each one\n",
    "    tempdf = pd.DataFrame.from_dict(df.at[x,'unigramCount'], orient='index')\n",
    "    tempdf.index.name='text' \n",
    "    tempdf.reset_index(inplace=True)\n",
    "\n",
    "    tempdf = tempdf.rename(columns={0: 'count'})\n",
    "    tempdf = tempdf.assign(id = df.at[x,'id'])\n",
    "    \n",
    "    newdf = newdf.append(tempdf) #appends new dataframe (newdf) with the new rows formed from the unigram count row in original dataframe\n",
    "\n",
    "end_time = time.time() #time check for entire process\n",
    "total_time = end_time - start_time\n",
    "print (total_time)\n",
    "print (newdf)\n",
    "    "
   ]
  },
  {
   "cell_type": "code",
   "execution_count": null,
   "metadata": {},
   "outputs": [],
   "source": [
    "print (len(df.unigramCount))"
   ]
  },
  {
   "cell_type": "code",
   "execution_count": null,
   "metadata": {},
   "outputs": [],
   "source": [
    "#newdf.to_csv('DataDump.csv') "
   ]
  },
  {
   "cell_type": "code",
   "execution_count": null,
   "metadata": {},
   "outputs": [],
   "source": [
    "contains_12VG = newdf.loc[newdf['text'].str.contains(\"12VG\",case = False)] #test case for normal smithsonian trinomial formatting\n",
    "contains_12VG"
   ]
  },
  {
   "cell_type": "code",
   "execution_count": null,
   "metadata": {},
   "outputs": [],
   "source": [
    "contains_12VG_alt1 = newdf.loc[newdf['text'].str.contains(\"12-VG\", case = False)] #test case for smithsonian trinomial formatting option 2\n",
    "contains_12VG_alt1"
   ]
  },
  {
   "cell_type": "code",
   "execution_count": null,
   "metadata": {},
   "outputs": [],
   "source": [
    "contains_12VG_alt2 = newdf.loc[newdf['text'].str.contains(\"12/VG\", case = False)] #test case for smithsonian trinomial formatting option 3\n",
    "contains_12VG_alt2"
   ]
  },
  {
   "cell_type": "code",
   "execution_count": null,
   "metadata": {},
   "outputs": [],
   "source": [
    "def contains_num (s):   #functtion to determine if a string contains a digit in any location\n",
    "    return any(i.isdigit() for i in s)"
   ]
  },
  {
   "cell_type": "code",
   "execution_count": null,
   "metadata": {},
   "outputs": [],
   "source": [
    "newdf['contains_number'] = np.where(newdf.text , True, False) #currently non functioning method for identifying whether the string in the 'text' column contains a number\n",
    "print (newdf)"
   ]
  },
  {
   "cell_type": "code",
   "execution_count": null,
   "metadata": {},
   "outputs": [],
   "source": []
  }
 ],
 "metadata": {
  "kernelspec": {
   "display_name": "Python 3",
   "language": "python",
   "name": "python3"
  },
  "language_info": {
   "codemirror_mode": {
    "name": "ipython",
    "version": 3
   },
   "file_extension": ".py",
   "mimetype": "text/x-python",
   "name": "python",
   "nbconvert_exporter": "python",
   "pygments_lexer": "ipython3",
   "version": "3.8.5"
  }
 },
 "nbformat": 4,
 "nbformat_minor": 4
}
