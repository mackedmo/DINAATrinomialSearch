{
 "cells": [
  {
   "cell_type": "markdown",
   "metadata": {},
   "source": [
    "## Trinomial Search For Documents Stored in Constellate's Datasets\n",
    "This Jupyter Notebook contains programming to search for trinomial instances in datasets built using Constellate's dataset builder. \n",
    "\n",
    "**How this notebook functions:** Using a dataset built with Constellate's dataset builder (https://constellate.org/) and json file with state and county abbreviations, this notebook allows the user to search the unigrams from every article within a dataset for Smithsonian Trinomials and export a .csv file with the Smithsonian Trinomial and the JSTOR stable url data. \n",
    "\n",
    "**What you need to start using this notebook:** Dataset file built using Constellate (https://constellate.org/), JSON file with State and County Abbreviation information, Jupyter Lab environment and Python\n"
   ]
  },
  {
   "cell_type": "code",
   "execution_count": 1,
   "metadata": {},
   "outputs": [],
   "source": [
    "import numpy as np\n",
    "import pandas as pd\n",
    "import csv\n",
    "import time\n"
   ]
  },
  {
   "cell_type": "code",
   "execution_count": 2,
   "metadata": {},
   "outputs": [
    {
     "name": "stdout",
     "output_type": "stream",
     "text": [
      "    datePublished  docType                                    id  \\\n",
      "0      1991-01-01  article  http://www.jstor.org/stable/20708313   \n",
      "1      1988-01-01  article  http://www.jstor.org/stable/20708269   \n",
      "2      1991-01-01  article  http://www.jstor.org/stable/20708320   \n",
      "3      1992-10-01  article  http://www.jstor.org/stable/20708331   \n",
      "4      1991-01-01  article  http://www.jstor.org/stable/20708318   \n",
      "..            ...      ...                                   ...   \n",
      "577    2012-10-01  article  http://www.jstor.org/stable/24571142   \n",
      "578    1976-01-01  article  http://www.jstor.org/stable/20707782   \n",
      "579    2012-04-01  article  http://www.jstor.org/stable/24571266   \n",
      "580    2011-10-01  article  http://www.jstor.org/stable/24571042   \n",
      "581    2008-10-01  article  http://www.jstor.org/stable/41220753   \n",
      "\n",
      "                                            identifier  \\\n",
      "0    [{'name': 'issn', 'value': '01461109'}, {'name...   \n",
      "1    [{'name': 'issn', 'value': '01461109'}, {'name...   \n",
      "2    [{'name': 'issn', 'value': '01461109'}, {'name...   \n",
      "3    [{'name': 'issn', 'value': '01461109'}, {'name...   \n",
      "4    [{'name': 'issn', 'value': '01461109'}, {'name...   \n",
      "..                                                 ...   \n",
      "577  [{'name': 'issn', 'value': '01461109'}, {'name...   \n",
      "578  [{'name': 'issn', 'value': '01461109'}, {'name...   \n",
      "579  [{'name': 'issn', 'value': '01461109'}, {'name...   \n",
      "580  [{'name': 'issn', 'value': '01461109'}, {'name...   \n",
      "581  [{'name': 'issn', 'value': '01461109'}, {'name...   \n",
      "\n",
      "                                  isPartOf  issueNumber language  \\\n",
      "0    Midcontinental Journal of Archaeology          2.0    [eng]   \n",
      "1    Midcontinental Journal of Archaeology          2.0    [eng]   \n",
      "2    Midcontinental Journal of Archaeology          2.0    [eng]   \n",
      "3    Midcontinental Journal of Archaeology          2.0    [eng]   \n",
      "4    Midcontinental Journal of Archaeology          2.0    [eng]   \n",
      "..                                     ...          ...      ...   \n",
      "577  Midcontinental Journal of Archaeology          2.0    [eng]   \n",
      "578  Midcontinental Journal of Archaeology          NaN    [eng]   \n",
      "579  Midcontinental Journal of Archaeology          1.0    [eng]   \n",
      "580  Midcontinental Journal of Archaeology          2.0    [eng]   \n",
      "581  Midcontinental Journal of Archaeology          2.0    [eng]   \n",
      "\n",
      "                   outputFormat  pageCount provider  ...  wordCount  \\\n",
      "0    [unigram, bigram, trigram]          4    jstor  ...        678   \n",
      "1    [unigram, bigram, trigram]          4    jstor  ...        756   \n",
      "2    [unigram, bigram, trigram]          1    jstor  ...        327   \n",
      "3    [unigram, bigram, trigram]         27    jstor  ...       7059   \n",
      "4    [unigram, bigram, trigram]         13    jstor  ...       3306   \n",
      "..                          ...        ...      ...  ...        ...   \n",
      "577  [unigram, bigram, trigram]         14    jstor  ...       8406   \n",
      "578  [unigram, bigram, trigram]         34    jstor  ...      15516   \n",
      "579  [unigram, bigram, trigram]          5    jstor  ...       3749   \n",
      "580  [unigram, bigram, trigram]         27    jstor  ...      18053   \n",
      "581  [unigram, bigram, trigram]          4    jstor  ...       1077   \n",
      "\n",
      "                                          unigramCount  \\\n",
      "0    {'HURLEY,': 1, 'Map': 1, 'text': 1, 'illustrat...   \n",
      "1    {'Wis.': 1, 'FAULKNER,': 1, 'Institutions:': 1...   \n",
      "2    {'archae': 2, 'Ancient': 1, 'materials': 1, 'H...   \n",
      "3    {'Tennessee': 1, 'artifact,': 1, 'matrix.': 1,...   \n",
      "4    {'m,': 1, 'remained': 1, 'show': 1, 'Johnson,'...   \n",
      "..                                                 ...   \n",
      "577  {'loyalists': 1, 'year,': 3, 'small': 7, 'well...   \n",
      "578  {'700': 1, 'meeting).': 1, 'Caddo': 3, 'probab...   \n",
      "579  {'challenges': 2, 'disturbance': 2, 'better': ...   \n",
      "580  {'commemoration,': 6, 'tion': 6, 'placed': 2, ...   \n",
      "581  {'Manuscript': 1, 'spring': 1, 'an': 1, 'North...   \n",
      "\n",
      "                                           bigramCount  \\\n",
      "0    {'clients. This': 1, 'of specific': 1, 'alphab...   \n",
      "1    {''^^^^^^^ MIDCONTINENTAL': 1, 'Polythetic-Sat...   \n",
      "2    {'should own': 1, 'Paper, $27.95': 1, 'America...   \n",
      "3    {'H., Jr.': 1, 'and Curtis': 1, 'eastern wild'...   \n",
      "4    {'Period Research': 1, 'larger size,': 1, 'the...   \n",
      "..                                                 ...   \n",
      "577  {'the winter': 3, 'doned after': 2, 'of Lake':...   \n",
      "578  {'excavation. Another': 1, 'Archaeological Sur...   \n",
      "579  {'stop in': 2, 'South ern': 2, 'Atlantic coast...   \n",
      "580  {'that other': 2, 'was no': 2, 'stones bearing...   \n",
      "581  {'year, $20': 1, 'the publisher,': 1, 'Baldia,...   \n",
      "\n",
      "                                          trigramCount  \\\n",
      "0    {'01970, for copying': 1, 'office by the': 1, ...   \n",
      "1    {'Toronto, Ont., Canada.': 1, 'Kent, Ohio 4424...   \n",
      "2    {'series. Illus. $44.95': 1, 'Northern Asia An...   \n",
      "3    {'Arbor. Smith, Lawson': 1, 'were probably fro...   \n",
      "4    {'Conservation Service, Washington,': 1, 'this...   \n",
      "..                                                 ...   \n",
      "577  {'landscape. The result': 2, 'these American v...   \n",
      "578  {'intermittently occupied and': 1, 'the region...   \n",
      "579  {'Green River at': 2, 'Upper Ohio rivers.': 2,...   \n",
      "580  {'politics of post': 2, 'Pennsylvania Museum o...   \n",
      "581  {'payable to AltaMira': 1, 'Robert Jeske, Depa...   \n",
      "\n",
      "                                              abstract  \\\n",
      "0                                                  NaN   \n",
      "1                                                  NaN   \n",
      "2                                                  NaN   \n",
      "3    The Fitzhugh site (3LN212) is a late Baytown p...   \n",
      "4    The Stone Serpent Mound of Boyd County, Kentuc...   \n",
      "..                                                 ...   \n",
      "577                                                NaN   \n",
      "578                                                NaN   \n",
      "579                                                NaN   \n",
      "580  The Brothertown Indian community formed in the...   \n",
      "581                                                NaN   \n",
      "\n",
      "                                creator  pageEnd pageStart   pagination  \\\n",
      "0                                   NaN      NaN       NaN          NaN   \n",
      "1                                   NaN      NaN       NaN          NaN   \n",
      "2                                   NaN      NaN       NaN          NaN   \n",
      "3    [Michael S. Nassaney, Rob Hoffman]      165       139  pp. 139-165   \n",
      "4                     [Sara L. Sanders]      284       272  pp. 272-284   \n",
      "..                                  ...      ...       ...          ...   \n",
      "577                 [Mark C. Branstner]      174       161  pp. 161-174   \n",
      "578                  [James B. Griffin]       38         5     pp. 5-38   \n",
      "579                 [Patrick D. Trader]      152       148  pp. 148-152   \n",
      "580                  [Craig N. Cipolla]      171       145  pp. 145-171   \n",
      "581                                 NaN      NaN       NaN          NaN   \n",
      "\n",
      "                                           tdmCategory  \n",
      "0                                                  NaN  \n",
      "1                                                  NaN  \n",
      "2                                                  NaN  \n",
      "3                      [Physical sciences - Astronomy]  \n",
      "4                      [Physical sciences - Astronomy]  \n",
      "..                                                 ...  \n",
      "577             [Political science - Military science]  \n",
      "578  [Physical sciences - Astronomy, History - Hist...  \n",
      "579  [Biological sciences - Agriculture, Biological...  \n",
      "580                    [Physical sciences - Astronomy]  \n",
      "581  [Biological sciences - Biology, Information sc...  \n",
      "\n",
      "[582 rows x 26 columns]\n"
     ]
    }
   ],
   "source": [
    "with open('3ce88441-1eb6-c10e-970d-7d071ad33299.jsonl', 'r') as path:\n",
    "    df = pd.read_json(path, lines=True) #create dataframe (df) from data within jsonl file from constellate\n",
    "print (df)\n",
    "    "
   ]
  },
  {
   "cell_type": "code",
   "execution_count": 3,
   "metadata": {},
   "outputs": [
    {
     "data": {
      "text/plain": [
       "Index(['datePublished', 'docType', 'id', 'identifier', 'isPartOf',\n",
       "       'issueNumber', 'language', 'outputFormat', 'pageCount', 'provider',\n",
       "       'publicationYear', 'publisher', 'sourceCategory', 'title', 'url',\n",
       "       'volumeNumber', 'wordCount', 'unigramCount', 'bigramCount',\n",
       "       'trigramCount', 'abstract', 'creator', 'pageEnd', 'pageStart',\n",
       "       'pagination', 'tdmCategory'],\n",
       "      dtype='object')"
      ]
     },
     "execution_count": 3,
     "metadata": {},
     "output_type": "execute_result"
    }
   ],
   "source": [
    "df.columns"
   ]
  },
  {
   "cell_type": "code",
   "execution_count": 4,
   "metadata": {},
   "outputs": [
    {
     "data": {
      "text/plain": [
       "0      http://www.jstor.org/stable/20708313\n",
       "1      http://www.jstor.org/stable/20708269\n",
       "2      http://www.jstor.org/stable/20708320\n",
       "3      http://www.jstor.org/stable/20708331\n",
       "4      http://www.jstor.org/stable/20708318\n",
       "                       ...                 \n",
       "577    http://www.jstor.org/stable/24571142\n",
       "578    http://www.jstor.org/stable/20707782\n",
       "579    http://www.jstor.org/stable/24571266\n",
       "580    http://www.jstor.org/stable/24571042\n",
       "581    http://www.jstor.org/stable/41220753\n",
       "Name: id, Length: 582, dtype: object"
      ]
     },
     "execution_count": 4,
     "metadata": {},
     "output_type": "execute_result"
    }
   ],
   "source": [
    "df.id"
   ]
  },
  {
   "cell_type": "code",
   "execution_count": 5,
   "metadata": {},
   "outputs": [
    {
     "name": "stdout",
     "output_type": "stream",
     "text": [
      "30.610790967941284\n",
      "               text  count                                    id\n",
      "0           HURLEY,      1  http://www.jstor.org/stable/20708313\n",
      "1               Map      1  http://www.jstor.org/stable/20708313\n",
      "2              text      1  http://www.jstor.org/stable/20708313\n",
      "3     illustrations      1  http://www.jstor.org/stable/20708313\n",
      "4          Madison,      1  http://www.jstor.org/stable/20708313\n",
      "...             ...    ...                                   ...\n",
      "3166   Recognition,      2  http://www.jstor.org/stable/24571042\n",
      "3167           Veit      2  http://www.jstor.org/stable/24571042\n",
      "3168        peoples      6  http://www.jstor.org/stable/24571042\n",
      "3169    petitioning      2  http://www.jstor.org/stable/24571042\n",
      "3170         assump      2  http://www.jstor.org/stable/24571042\n",
      "\n",
      "[1124713 rows x 3 columns]\n"
     ]
    }
   ],
   "source": [
    "newdf = pd.DataFrame()\n",
    "\n",
    "start_time = time.time() \n",
    "for x in range(0,(len(df.unigramCount)-1)): #Separates the unigrams into individual rows keeping the url information for the article with each one\n",
    "    tempdf = pd.DataFrame.from_dict(df.at[x,'unigramCount'], orient='index')\n",
    "    tempdf.index.name='text' \n",
    "    tempdf.reset_index(inplace=True)\n",
    "\n",
    "    tempdf = tempdf.rename(columns={0: 'count'})\n",
    "    tempdf = tempdf.assign(id = df.at[x,'id'])\n",
    "    \n",
    "    newdf = newdf.append(tempdf) #appends new dataframe (newdf) with the new rows formed from the unigram count row in original dataframe\n",
    "\n",
    "end_time = time.time() #time check for entire process\n",
    "total_time = end_time - start_time\n",
    "print (total_time)\n",
    "print (newdf)\n",
    "    "
   ]
  },
  {
   "cell_type": "code",
   "execution_count": 6,
   "metadata": {},
   "outputs": [
    {
     "name": "stdout",
     "output_type": "stream",
     "text": [
      "582\n"
     ]
    }
   ],
   "source": [
    "print (len(df.unigramCount))"
   ]
  },
  {
   "cell_type": "code",
   "execution_count": 7,
   "metadata": {},
   "outputs": [],
   "source": [
    "#newdf.to_csv('DataDump.csv') "
   ]
  },
  {
   "cell_type": "code",
   "execution_count": 25,
   "metadata": {},
   "outputs": [
    {
     "data": {
      "text/html": [
       "<div>\n",
       "<style scoped>\n",
       "    .dataframe tbody tr th:only-of-type {\n",
       "        vertical-align: middle;\n",
       "    }\n",
       "\n",
       "    .dataframe tbody tr th {\n",
       "        vertical-align: top;\n",
       "    }\n",
       "\n",
       "    .dataframe thead th {\n",
       "        text-align: right;\n",
       "    }\n",
       "</style>\n",
       "<table border=\"1\" class=\"dataframe\">\n",
       "  <thead>\n",
       "    <tr style=\"text-align: right;\">\n",
       "      <th></th>\n",
       "      <th>text</th>\n",
       "      <th>count</th>\n",
       "      <th>id</th>\n",
       "      <th>contains_number</th>\n",
       "    </tr>\n",
       "  </thead>\n",
       "  <tbody>\n",
       "    <tr>\n",
       "      <th>252</th>\n",
       "      <td>12Vgl</td>\n",
       "      <td>1</td>\n",
       "      <td>http://www.jstor.org/stable/20708306</td>\n",
       "      <td>True</td>\n",
       "    </tr>\n",
       "    <tr>\n",
       "      <th>259</th>\n",
       "      <td>(12Vgl)</td>\n",
       "      <td>1</td>\n",
       "      <td>http://www.jstor.org/stable/20707949</td>\n",
       "      <td>True</td>\n",
       "    </tr>\n",
       "  </tbody>\n",
       "</table>\n",
       "</div>"
      ],
      "text/plain": [
       "        text  count                                    id  contains_number\n",
       "252    12Vgl      1  http://www.jstor.org/stable/20708306             True\n",
       "259  (12Vgl)      1  http://www.jstor.org/stable/20707949             True"
      ]
     },
     "execution_count": 25,
     "metadata": {},
     "output_type": "execute_result"
    }
   ],
   "source": [
    "contains_12VG = newdf.loc[newdf['text'].str.contains(\"12VG\",case = False)] #test case for normal smithsonian trinomial formatting\n",
    "contains_12VG"
   ]
  },
  {
   "cell_type": "code",
   "execution_count": 10,
   "metadata": {},
   "outputs": [
    {
     "data": {
      "text/html": [
       "<div>\n",
       "<style scoped>\n",
       "    .dataframe tbody tr th:only-of-type {\n",
       "        vertical-align: middle;\n",
       "    }\n",
       "\n",
       "    .dataframe tbody tr th {\n",
       "        vertical-align: top;\n",
       "    }\n",
       "\n",
       "    .dataframe thead th {\n",
       "        text-align: right;\n",
       "    }\n",
       "</style>\n",
       "<table border=\"1\" class=\"dataframe\">\n",
       "  <thead>\n",
       "    <tr style=\"text-align: right;\">\n",
       "      <th></th>\n",
       "      <th>text</th>\n",
       "      <th>count</th>\n",
       "      <th>id</th>\n",
       "    </tr>\n",
       "  </thead>\n",
       "  <tbody>\n",
       "  </tbody>\n",
       "</table>\n",
       "</div>"
      ],
      "text/plain": [
       "Empty DataFrame\n",
       "Columns: [text, count, id]\n",
       "Index: []"
      ]
     },
     "execution_count": 10,
     "metadata": {},
     "output_type": "execute_result"
    }
   ],
   "source": [
    "contains_12VG_alt1 = newdf.loc[newdf['text'].str.contains(\"12-VG\", case = False)] #test case for smithsonian trinomial formatting option 2\n",
    "contains_12VG_alt1"
   ]
  },
  {
   "cell_type": "code",
   "execution_count": 11,
   "metadata": {},
   "outputs": [
    {
     "data": {
      "text/html": [
       "<div>\n",
       "<style scoped>\n",
       "    .dataframe tbody tr th:only-of-type {\n",
       "        vertical-align: middle;\n",
       "    }\n",
       "\n",
       "    .dataframe tbody tr th {\n",
       "        vertical-align: top;\n",
       "    }\n",
       "\n",
       "    .dataframe thead th {\n",
       "        text-align: right;\n",
       "    }\n",
       "</style>\n",
       "<table border=\"1\" class=\"dataframe\">\n",
       "  <thead>\n",
       "    <tr style=\"text-align: right;\">\n",
       "      <th></th>\n",
       "      <th>text</th>\n",
       "      <th>count</th>\n",
       "      <th>id</th>\n",
       "    </tr>\n",
       "  </thead>\n",
       "  <tbody>\n",
       "  </tbody>\n",
       "</table>\n",
       "</div>"
      ],
      "text/plain": [
       "Empty DataFrame\n",
       "Columns: [text, count, id]\n",
       "Index: []"
      ]
     },
     "execution_count": 11,
     "metadata": {},
     "output_type": "execute_result"
    }
   ],
   "source": [
    "contains_12VG_alt2 = newdf.loc[newdf['text'].str.contains(\"12/VG\", case = False)] #test case for smithsonian trinomial formatting option 3\n",
    "contains_12VG_alt2"
   ]
  },
  {
   "cell_type": "code",
   "execution_count": 28,
   "metadata": {},
   "outputs": [],
   "source": [
    "def contains_num (s):   #functtion to determine if a string contains a digit in any location\n",
    "    return any(i.isdigit() for i in s)"
   ]
  },
  {
   "cell_type": "code",
   "execution_count": 29,
   "metadata": {},
   "outputs": [
    {
     "name": "stdout",
     "output_type": "stream",
     "text": [
      "               text  count                                    id  \\\n",
      "0           HURLEY,      1  http://www.jstor.org/stable/20708313   \n",
      "1               Map      1  http://www.jstor.org/stable/20708313   \n",
      "2              text      1  http://www.jstor.org/stable/20708313   \n",
      "3     illustrations      1  http://www.jstor.org/stable/20708313   \n",
      "4          Madison,      1  http://www.jstor.org/stable/20708313   \n",
      "...             ...    ...                                   ...   \n",
      "3166   Recognition,      2  http://www.jstor.org/stable/24571042   \n",
      "3167           Veit      2  http://www.jstor.org/stable/24571042   \n",
      "3168        peoples      6  http://www.jstor.org/stable/24571042   \n",
      "3169    petitioning      2  http://www.jstor.org/stable/24571042   \n",
      "3170         assump      2  http://www.jstor.org/stable/24571042   \n",
      "\n",
      "      contains_number  \n",
      "0                True  \n",
      "1                True  \n",
      "2                True  \n",
      "3                True  \n",
      "4                True  \n",
      "...               ...  \n",
      "3166             True  \n",
      "3167             True  \n",
      "3168             True  \n",
      "3169             True  \n",
      "3170             True  \n",
      "\n",
      "[1124713 rows x 4 columns]\n"
     ]
    }
   ],
   "source": [
    "newdf['contains_number'] = np.where(newdf.text , True, False) #currently non functioning method for identifying whether the string in the 'text' column contains a number\n",
    "print (newdf)"
   ]
  },
  {
   "cell_type": "code",
   "execution_count": null,
   "metadata": {},
   "outputs": [],
   "source": []
  }
 ],
 "metadata": {
  "kernelspec": {
   "display_name": "Python 3",
   "language": "python",
   "name": "python3"
  },
  "language_info": {
   "codemirror_mode": {
    "name": "ipython",
    "version": 3
   },
   "file_extension": ".py",
   "mimetype": "text/x-python",
   "name": "python",
   "nbconvert_exporter": "python",
   "pygments_lexer": "ipython3",
   "version": "3.8.5"
  }
 },
 "nbformat": 4,
 "nbformat_minor": 4
}
